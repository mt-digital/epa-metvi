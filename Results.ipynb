{
 "cells": [
  {
   "cell_type": "code",
   "execution_count": 1,
   "metadata": {},
   "outputs": [],
   "source": [
    "# SETUP\n",
    "\n",
    "import warnings\n",
    "warnings.simplefilter('ignore')\n",
    "\n",
    "import os\n",
    "os.environ['CONFIG_FILE'] = 'conf/default.cfg'\n",
    "\n",
    "import pandas as pd\n",
    "import numpy as np\n",
    "\n",
    "from collections import Counter\n",
    "\n",
    "from metacorps.projects.common.export_project import ProjectExporter\n",
    "\n",
    "df = ProjectExporter('EPA Metvi').export_dataframe()"
   ]
  },
  {
   "cell_type": "markdown",
   "metadata": {},
   "source": [
    "## Data export for open science\n",
    "\n",
    "We should make our data as available as possible for a number of \"open science\" reasons. Open science is a vague but useful term for things like publishing all data that was gathered, even if it was discarded for the study.\n",
    "\n",
    "In our case, we invite the community to critique our annotations or other elements of our data processing and analysis. Below I export the EPA strangle metaphor dataset to a variety of formats."
   ]
  },
  {
   "cell_type": "code",
   "execution_count": 8,
   "metadata": {},
   "outputs": [
    {
     "data": {
      "text/html": [
       "<div>\n",
       "<style scoped>\n",
       "    .dataframe tbody tr th:only-of-type {\n",
       "        vertical-align: middle;\n",
       "    }\n",
       "\n",
       "    .dataframe tbody tr th {\n",
       "        vertical-align: top;\n",
       "    }\n",
       "\n",
       "    .dataframe thead th {\n",
       "        text-align: right;\n",
       "    }\n",
       "</style>\n",
       "<table border=\"1\" class=\"dataframe\">\n",
       "  <thead>\n",
       "    <tr style=\"text-align: right;\">\n",
       "      <th></th>\n",
       "      <th>start_localtime</th>\n",
       "      <th>start_time</th>\n",
       "      <th>stop_time</th>\n",
       "      <th>runtime_seconds</th>\n",
       "      <th>network</th>\n",
       "      <th>program_name</th>\n",
       "      <th>iatv_id</th>\n",
       "      <th>facet_word</th>\n",
       "      <th>conceptual_metaphor</th>\n",
       "      <th>spoken_by</th>\n",
       "      <th>subjects</th>\n",
       "      <th>objects</th>\n",
       "      <th>active_passive</th>\n",
       "      <th>text</th>\n",
       "      <th>tense</th>\n",
       "      <th>repeat</th>\n",
       "      <th>repeat_index</th>\n",
       "    </tr>\n",
       "  </thead>\n",
       "  <tbody>\n",
       "    <tr>\n",
       "      <th>0</th>\n",
       "      <td>2016-07-12 23:00:00</td>\n",
       "      <td>None</td>\n",
       "      <td>None</td>\n",
       "      <td>None</td>\n",
       "      <td>CSPAN</td>\n",
       "      <td>US House of Representatives Special Orders</td>\n",
       "      <td>CSPAN_20160712_230000_US_House_of_Representati...</td>\n",
       "      <td>epa-reg-strangle</td>\n",
       "      <td></td>\n",
       "      <td>Evan Jenkins (R-West Virginia; 3rd District)</td>\n",
       "      <td>methane regulations</td>\n",
       "      <td>domestic energy portfolio</td>\n",
       "      <td></td>\n",
       "      <td>&lt;b&gt;&lt;/b&gt; &lt;em&gt;environmental&lt;/em&gt; &lt;em&gt;protection&lt;...</td>\n",
       "      <td></td>\n",
       "      <td>False</td>\n",
       "      <td>None</td>\n",
       "    </tr>\n",
       "    <tr>\n",
       "      <th>1</th>\n",
       "      <td>2016-09-21 20:00:00</td>\n",
       "      <td>None</td>\n",
       "      <td>None</td>\n",
       "      <td>None</td>\n",
       "      <td>CSPAN</td>\n",
       "      <td>U.S. House of Representatives Legislative Busi...</td>\n",
       "      <td>CSPAN_20160921_200000_U.S._House_of_Representa...</td>\n",
       "      <td>epa-reg-strangle</td>\n",
       "      <td></td>\n",
       "      <td>Bob Goodlatte (R-Virginia), Tom Marino (R-Penn...</td>\n",
       "      <td>washington regulators, ozone standards</td>\n",
       "      <td>economic recovery, economic opportunities</td>\n",
       "      <td></td>\n",
       "      <td>&lt;b&gt;michigan&lt;/b&gt; &lt;b&gt;v.&lt;/b&gt; &lt;em&gt;e.p.a&lt;/em&gt;. &lt;b&gt;...</td>\n",
       "      <td></td>\n",
       "      <td>False</td>\n",
       "      <td>None</td>\n",
       "    </tr>\n",
       "    <tr>\n",
       "      <th>2</th>\n",
       "      <td>2017-02-02 15:59:00</td>\n",
       "      <td>None</td>\n",
       "      <td>None</td>\n",
       "      <td>None</td>\n",
       "      <td>CSPAN2</td>\n",
       "      <td>U.S. Senate Advances HHS Secretary Nomination</td>\n",
       "      <td>CSPAN2_20170202_155900_U.S._Senate_Advances_HH...</td>\n",
       "      <td>epa-reg-strangle</td>\n",
       "      <td></td>\n",
       "      <td>John Cornyn (R-Texas; Senate)</td>\n",
       "      <td>extreme buffer rule, regulatory overreach</td>\n",
       "      <td>growth of our economy, jobs</td>\n",
       "      <td></td>\n",
       "      <td>in &lt;b&gt;mind,&lt;/b&gt; &lt;b&gt;the&lt;/b&gt; &lt;em&gt;environmental&lt;...</td>\n",
       "      <td></td>\n",
       "      <td>False</td>\n",
       "      <td>None</td>\n",
       "    </tr>\n",
       "    <tr>\n",
       "      <th>3</th>\n",
       "      <td>2017-01-05 18:59:00</td>\n",
       "      <td>None</td>\n",
       "      <td>None</td>\n",
       "      <td>None</td>\n",
       "      <td>CSPAN</td>\n",
       "      <td>U.S. House Legislative Business</td>\n",
       "      <td>CSPAN_20170105_185900_U.S._House_Legislative_B...</td>\n",
       "      <td>epa-reg-strangle</td>\n",
       "      <td></td>\n",
       "      <td>Tom Marino (R-Pennsylvania; 10th District)</td>\n",
       "      <td>regulation, federal regulations, Obama's regul...</td>\n",
       "      <td>economy, economy, job creation</td>\n",
       "      <td></td>\n",
       "      <td>. the gentleman from virginia is recognized. m...</td>\n",
       "      <td></td>\n",
       "      <td>False</td>\n",
       "      <td>None</td>\n",
       "    </tr>\n",
       "    <tr>\n",
       "      <th>4</th>\n",
       "      <td>2017-03-01 21:00:00</td>\n",
       "      <td>None</td>\n",
       "      <td>None</td>\n",
       "      <td>None</td>\n",
       "      <td>CSPAN</td>\n",
       "      <td>U.S. House Meets for Legislative Business</td>\n",
       "      <td>CSPAN_20170301_210000_U.S._House_Meets_for_Leg...</td>\n",
       "      <td>epa-reg-strangle</td>\n",
       "      <td></td>\n",
       "      <td>David Young (R-Iowa; 3rd District)</td>\n",
       "      <td>red tape</td>\n",
       "      <td>economy and jobs engine</td>\n",
       "      <td></td>\n",
       "      <td>&lt;b&gt;red&lt;/b&gt; &lt;b&gt;tape&lt;/b&gt; &lt;em&gt;strangling&lt;/em&gt; &lt;b...</td>\n",
       "      <td></td>\n",
       "      <td>False</td>\n",
       "      <td>None</td>\n",
       "    </tr>\n",
       "  </tbody>\n",
       "</table>\n",
       "</div>"
      ],
      "text/plain": [
       "      start_localtime start_time stop_time runtime_seconds network  \\\n",
       "0 2016-07-12 23:00:00       None      None            None   CSPAN   \n",
       "1 2016-09-21 20:00:00       None      None            None   CSPAN   \n",
       "2 2017-02-02 15:59:00       None      None            None  CSPAN2   \n",
       "3 2017-01-05 18:59:00       None      None            None   CSPAN   \n",
       "4 2017-03-01 21:00:00       None      None            None   CSPAN   \n",
       "\n",
       "                                        program_name  \\\n",
       "0         US House of Representatives Special Orders   \n",
       "1  U.S. House of Representatives Legislative Busi...   \n",
       "2      U.S. Senate Advances HHS Secretary Nomination   \n",
       "3                    U.S. House Legislative Business   \n",
       "4          U.S. House Meets for Legislative Business   \n",
       "\n",
       "                                             iatv_id        facet_word  \\\n",
       "0  CSPAN_20160712_230000_US_House_of_Representati...  epa-reg-strangle   \n",
       "1  CSPAN_20160921_200000_U.S._House_of_Representa...  epa-reg-strangle   \n",
       "2  CSPAN2_20170202_155900_U.S._Senate_Advances_HH...  epa-reg-strangle   \n",
       "3  CSPAN_20170105_185900_U.S._House_Legislative_B...  epa-reg-strangle   \n",
       "4  CSPAN_20170301_210000_U.S._House_Meets_for_Leg...  epa-reg-strangle   \n",
       "\n",
       "  conceptual_metaphor                                          spoken_by  \\\n",
       "0                           Evan Jenkins (R-West Virginia; 3rd District)   \n",
       "1                      Bob Goodlatte (R-Virginia), Tom Marino (R-Penn...   \n",
       "2                                          John Cornyn (R-Texas; Senate)   \n",
       "3                             Tom Marino (R-Pennsylvania; 10th District)   \n",
       "4                                     David Young (R-Iowa; 3rd District)   \n",
       "\n",
       "                                            subjects  \\\n",
       "0                                methane regulations   \n",
       "1             washington regulators, ozone standards   \n",
       "2          extreme buffer rule, regulatory overreach   \n",
       "3  regulation, federal regulations, Obama's regul...   \n",
       "4                                           red tape   \n",
       "\n",
       "                                     objects active_passive  \\\n",
       "0                  domestic energy portfolio                  \n",
       "1  economic recovery, economic opportunities                  \n",
       "2                growth of our economy, jobs                  \n",
       "3             economy, economy, job creation                  \n",
       "4                    economy and jobs engine                  \n",
       "\n",
       "                                                text tense repeat repeat_index  \n",
       "0  <b></b> <em>environmental</em> <em>protection<...        False         None  \n",
       "1   <b>michigan</b> <b>v.</b> <em>e.p.a</em>. <b>...        False         None  \n",
       "2   in <b>mind,</b> <b>the</b> <em>environmental<...        False         None  \n",
       "3  . the gentleman from virginia is recognized. m...        False         None  \n",
       "4   <b>red</b> <b>tape</b> <em>strangling</em> <b...        False         None  "
      ]
     },
     "execution_count": 8,
     "metadata": {},
     "output_type": "execute_result"
    }
   ],
   "source": [
    "df.head()"
   ]
  },
  {
   "cell_type": "markdown",
   "metadata": {},
   "source": [
    "# Results\n",
    "\n",
    "Here are the guiding hypotheses for this study of instances of violence metaphors on cable news where the subject of the violence is the EPA, or other regulations/regulators, and the violence was some kind of strangling. We want to know who says these metaphors, on what channel it was said, who were the subject and object of violence, and when were these metaphors said.\n",
    "\n",
    "* We expect that around the time of the 2016 election there will be increased use of the metaphors of interest due to generally increased excitement and due to the role the media play as cheerleaders, agenda setters, and expectation setters. \n",
    "* We expect that Fox-owned channels Fox News and Fox Business Channel will feature more of the metaphors of interest because the idea that regulatory harm is a great concern is a component of their ideological bias and because their audience is largely composed of people in the (sub-) “Culture of Honor.” People in this United States subculture are the descendents of Scots-Irish, who are claimed to be more intrinsically aggressive than many other ethnic groups in the United States; there is some empirical evidence to support this. \n",
    "* For similar reasons for the preceding hypothesis, we expect Republican politicians to more commonly use the metaphors of interest. \n",
    "* We expect that there will be a set of common and a few rare objects of metaphorical violence. Common objects will include variants of “business” and “business men and women,” and “the economy,” and perhaps others.\n",
    "\n",
    "## Time course of violence metaphor use"
   ]
  },
  {
   "cell_type": "code",
   "execution_count": 9,
   "metadata": {},
   "outputs": [
    {
     "data": {
      "image/png": "[encoded data removed]",
      "text/plain": [
       "<Figure size 540x360 with 1 Axes>"
      ]
     },
     "metadata": {
      "needs_background": "light"
     },
     "output_type": "display_data"
    }
   ],
   "source": [
    "c = Counter(df.start_localtime.dt.date)\n",
    "\n",
    "s = pd.Series(index=c.keys(), data=list(c.values()))\n",
    "\n",
    "s2 = pd.Series(index=pd.date_range('2016-01-01', '2017-12-31', freq='D'),\n",
    "               data=0.0)\n",
    "\n",
    "s2[s.index] = s.data\n",
    "\n",
    "s2 = s2.resample('1M').sum()\n",
    "plt.figure(figsize=(7.5, 5))\n",
    "s2.plot(style='ko-', ms=10, lw=3)\n",
    "plt.ylim(0, 20)\n",
    "\n",
    "# print(s2)\n",
    "\n",
    "plt.ylabel('Uses', size=14)\n",
    "plt.xlabel('Month', size=14)\n",
    "plt.yticks(np.arange(0, 21, 5))\n",
    "plt.xticks(['2016-01-15', '2016-04-15', '2016-07-15', \n",
    "            '2016-10-15', '2017-01-15', '2017-04-15',\n",
    "            '2017-07-15', '2017-10-15'])\n",
    "# plt.gca().grid(axis='x', which='major')\n",
    "# plt.gca().grid(axis='y', which='major')\n",
    "plt.tick_params(axis='y', which='both', labelsize=16)\n",
    "plt.tick_params(axis='x', which='both', labelsize=16)\n",
    "plt.xlabel('Month', size=20)\n",
    "plt.ylabel('Uses', size=20)\n",
    "plt.grid(axis='both')\n",
    "plt.title('\"strangle\" metaphor uses', size=16)\n",
    "plt.savefig('/Users/mt/Desktop/AGU Presentation/Figures/timeseries.png', dpi=300)"
   ]
  },
  {
   "cell_type": "markdown",
   "metadata": {},
   "source": [
    "## Channel featuring violence metaphors"
   ]
  },
  {
   "cell_type": "code",
   "execution_count": 3,
   "metadata": {},
   "outputs": [
    {
     "data": {
      "text/plain": [
       "{'CSPAN': 57,\n",
       " 'Fox Entertainment Group': 72,\n",
       " 'Bloomberg': 7,\n",
       " 'NBCUniversal': 18,\n",
       " 'CNN': 10}"
      ]
     },
     "execution_count": 3,
     "metadata": {},
     "output_type": "execute_result"
    }
   ],
   "source": [
    "## \n",
    "# Thinking of going with monthly data as basis. \n",
    "# Results in sufficiently large numbers, but fine\n",
    "# scale enough to see shifts potentially partially\n",
    "# explained through cultural considerations.\n",
    "#\n",
    "\n",
    "# How to get counts per channel per month, then?\n",
    "# First make reduced series as in above, but just using date\n",
    "# and channel.\n",
    "\n",
    "def rename_networks(networks):\n",
    "\n",
    "    network_renamed = networks.copy()\n",
    "    nr = network_renamed\n",
    "\n",
    "    # See https://en.wikipedia.org/wiki/Fox_Entertainment_Group#Fox_News_Group\n",
    "    nr[nr == 'FBC'] = 'Fox Entertainment Group'\n",
    "    nr[nr == 'FOXNEWSW'] = 'Fox Entertainment Group'\n",
    "\n",
    "    nr[nr.apply(lambda s: 'CSPAN' in s)] = 'CSPAN'\n",
    "\n",
    "    nr[nr == 'CNNW'] = 'CNN'\n",
    "\n",
    "    nr[nr == 'BLOOMBERG'] = 'Bloomberg'\n",
    "    nr[nr == 'MSNBCW'] = 'NBCUniversal'\n",
    "    nr[nr == 'CNBC'] = 'NBCUniversal'\n",
    "    \n",
    "    return network_renamed\n",
    "\n",
    "\n",
    "network_renamed = rename_networks(df.network)\n",
    "c = Counter(network_renamed)\n",
    "\n",
    "c.most_common()\n",
    "\n",
    "c\n",
    "\n",
    "lim = {k: v for k, v in c.items() if v > 1}\n",
    "\n",
    "lim"
   ]
  },
  {
   "cell_type": "code",
   "execution_count": 139,
   "metadata": {},
   "outputs": [
    {
     "name": "stdout",
     "output_type": "stream",
     "text": [
      "2016-01-31     1.0\n",
      "2016-04-30     3.0\n",
      "2016-07-31    10.0\n",
      "2016-10-31    19.0\n",
      "2017-01-31    12.0\n",
      "2017-04-30    13.0\n",
      "2017-07-31    10.0\n",
      "2017-10-31     1.0\n",
      "2018-01-31     3.0\n",
      "dtype: float64\n",
      "72.0\n",
      "57.0\n"
     ]
    },
    {
     "data": {
      "image/png": "[encoded data removed]",
      "text/plain": [
       "<Figure size 540x360 with 1 Axes>"
      ]
     },
     "metadata": {
      "needs_background": "light"
     },
     "output_type": "display_data"
    }
   ],
   "source": [
    "dfc = df.copy()\n",
    "\n",
    "dfc.network = network_renamed\n",
    "\n",
    "all_dates = pd.date_range('2016-01-01', '2017-12-31', freq='D')\n",
    "fox_ts = pd.Series(index=all_dates, data=0.0)\n",
    "cspan_ts = pd.Series(index=all_dates, data=0.0)\n",
    "\n",
    "fox_dates = dfc[dfc.network == 'Fox Entertainment Group'].start_localtime.dt.date\n",
    "fox_counts = Counter(fox_dates)\n",
    "\n",
    "for date, count in fox_counts.items():\n",
    "    fox_ts[date] = count\n",
    "    \n",
    "cspan_dates = dfc[dfc.network == 'CSPAN'].start_localtime.dt.date\n",
    "cspan_counts = Counter(cspan_dates)\n",
    "\n",
    "for date, count in cspan_counts.items():\n",
    "    cspan_ts[date] = count\n",
    "\n",
    "print(fox_ts.resample('3M').sum())\n",
    "print(fox_ts.resample('3M').sum().sum())\n",
    "print(cspan_ts.resample('3M').sum().sum())\n",
    "plt.figure(figsize=(7.5, 5))\n",
    "fox_ts.resample('3M').sum().plot(color='#C00820', marker='s', lw=3, ms=10, label='Fox News, Fox Business')\n",
    "cspan_ts.resample('3M').sum().plot(color='#1D487B', marker='o', lw=4, ms=10, label='CSPAN, CSPAN2, CSPAN3', alpha=0.6)\n",
    "plt.yticks(range(5, 21, 5))\n",
    "plt.tick_params(axis='y', which='both', labelsize=16)\n",
    "plt.tick_params(axis='x', which='both', labelsize=16)\n",
    "plt.xlabel('Time (Quarter)', size=20)\n",
    "plt.ylabel('Uses', size=20)\n",
    "plt.grid(axis='both')\n",
    "plt.legend(fontsize=14)\n",
    "plt.title('\"strangle\" metaphor uses by channel', size=18)\n",
    "plt.savefig('/Users/mt/Desktop/AGU Presentation/Figures/fox_cspan_timecourse.png', dpi=300)"
   ]
  },
  {
   "cell_type": "markdown",
   "metadata": {},
   "source": [
    "For some reason, there is data in Q1 2018 if we don't include the slice above. Need to figure out what that's about.\n",
    "\n",
    "So much for exploring uses per channel. On to uses per speaker.\n",
    "\n",
    "## Uses per speaker"
   ]
  },
  {
   "cell_type": "code",
   "execution_count": 126,
   "metadata": {},
   "outputs": [
    {
     "name": "stdout",
     "output_type": "stream",
     "text": [
      "172\n",
      "[('John Cornyn (R-Texas; Senate)', 5), ('Dan Sullivan (R-Alaska; Senate)', 3), ('Bob Goodlatte (R-Virginia)', 2), ('Tom Marino (R-Pennsylvania; 10th District)', 2), ('Liz Cheney (R-Wyoming; At Large)', 2), ('Paul Ryan (R-Wisconsin; 1st District)', 2), ('Bill Huizenga (R-Michigan; 2nd District)', 2), ('Jeb Hensarling (R-Texas; Financial Services Committee Chair)', 2), ('Lamar Alexander (R-Tennessee; Senate)', 2), ('Asa Hutchinson (R-Arkansas; Governor)', 2)]\n"
     ]
    }
   ],
   "source": [
    "all_speakers = []\n",
    "speakers = []\n",
    "df_cp = df.copy()\n",
    "\n",
    "for speaker in df_cp.spoken_by:\n",
    "    all_speakers.extend([s.strip() for s in speaker.split(',')])\n",
    "print(len(all_speakers))\n",
    "\n",
    "\n",
    "df_cp.spoken_by[df_cp.spoken_by == 'Gary Cohn; quoted by Stephanie Rhule'] = 'Gary Cohn'\n",
    "# df_cp.spoken_by[df_cp.spoken_by == ' Tom Marino (R-Pennsylvania; 10th District)'] = 'Tom Marino (R-Pennsylvania; 10th District)'\n",
    "for speaker in df_cp.spoken_by:\n",
    "    if speaker and (speaker != 'host') and (speaker != 'Panelist') and (speaker != 'contributor'):\n",
    "        speakers.extend([s.strip() for s in speaker.split(',')])\n",
    "\n",
    "# I was worried about this below, but it's OK.\n",
    "# Prints out {'Neil Cavuto'} because that's the only \n",
    "# time there are two people in Spoken By\n",
    "\n",
    "# print(len(all_speakers))\n",
    "# print(len(df_cp.spoken_by))\n",
    "# print(set(all_speakers) - set(df_cp.spoken_by))\n",
    "\n",
    "speaker_counts = Counter(speakers)\n",
    "\n",
    "speaker_counts.most_common()\n",
    "\n",
    "republicans = [speaker for speaker in speakers \n",
    "               if '(R-' in speaker]\n",
    "\n",
    "repub_counts = Counter(republicans)\n",
    "print(repub_counts.most_common(10))"
   ]
  },
  {
   "cell_type": "code",
   "execution_count": 150,
   "metadata": {},
   "outputs": [
    {
     "name": "stdout",
     "output_type": "stream",
     "text": [
      "49.0\n"
     ]
    },
    {
     "data": {
      "image/png": "[encoded data removed]",
      "text/plain": [
       "<Figure size 540x360 with 1 Axes>"
      ]
     },
     "metadata": {
      "needs_background": "light"
     },
     "output_type": "display_data"
    }
   ],
   "source": [
    "repub_ts = pd.Series(index=all_dates, data=0.0)\n",
    "\n",
    "df_repub = df_cp[\n",
    "    df_cp.spoken_by.apply(lambda s: '(R-' in s)\n",
    "]\n",
    "\n",
    "\n",
    "repub_dates = df_repub.start_localtime.dt.date\n",
    "repub_counter = Counter(repub_dates)\n",
    "for date, count in repub_counter.items():\n",
    "    repub_ts[date] = count\n",
    "    \n",
    "repub_resample = repub_ts.resample('3M', closed='left', label='right', convention='start').sum()[:-1]\n",
    "print(repub_resample.sum())\n",
    "plt.figure(figsize=(7.5, 5))\n",
    "ax = repub_resample.plot(marker='^', color='#D41D28', lw=3, ms=14)\n",
    "plt.grid(axis='both')\n",
    "plt.tick_params(axis='y', which='both', labelsize=16)\n",
    "plt.tick_params(axis='x', which='both', labelsize=16)\n",
    "\n",
    "ax.set_xlim(['2016-2-1', '2018-1-1'])\n",
    "\n",
    "ax.set_xticks(['2016-3-31', '2016-6-30', '2016-9-30', '2016-12-31',\n",
    "               '2017-3-31', '2017-6-30', '2017-9-30', '2017-12-31'], minor=True)\n",
    "ax.set_xticks(['2016-3-31', '2017-3-31'], minor=False)\n",
    "\n",
    "xlabels = ['Q1\\n2016', 'Q2', 'Q3', 'Q4', 'Q1\\n2017', 'Q2', 'Q3', 'Q4']\n",
    "ax.set_xticklabels(xlabels, minor=True)\n",
    "plt.xlabel('Time (Quarter)', size=20)\n",
    "plt.ylabel('Uses', size=20)\n",
    "plt.ylim(0, 10)\n",
    "plt.title('\"strangle\" metaphor uses by Republican lawmakers', size=18)\n",
    "\n",
    "plt.savefig('/Users/mt/Desktop/AGU Presentation/Figures/republicans.png', dpi=300)"
   ]
  },
  {
   "cell_type": "code",
   "execution_count": 135,
   "metadata": {},
   "outputs": [
    {
     "name": "stdout",
     "output_type": "stream",
     "text": [
      "[('Maria Bartiromo', 16), ('Donald Trump', 9), ('John Cornyn (R-Texas; Senate)', 5), ('Paul Ryan', 4), ('Kellyanne Conway', 4)]\n"
     ]
    },
    {
     "data": {
      "text/plain": [
       "15"
      ]
     },
     "execution_count": 135,
     "metadata": {},
     "output_type": "execute_result"
    }
   ],
   "source": [
    "print(speaker_counts.most_common(5))\n",
    "sum(np.array(list(speaker_counts.values())) == 2)"
   ]
  },
  {
   "cell_type": "markdown",
   "metadata": {},
   "source": [
    "So much for who says the metaphors on what network. On to looking at the objects of metaphorical violence.\n",
    "\n",
    "## Common objects of metaphorical violence"
   ]
  },
  {
   "cell_type": "code",
   "execution_count": 149,
   "metadata": {},
   "outputs": [
    {
     "name": "stdout",
     "output_type": "stream",
     "text": [
      "[('businesses', 17), ('small businesses', 14), ('business', 11), ('the economy', 11), ('', 11), ('our economy', 10), ('economy', 8), ('small business', 5), ('companies', 4), ('jobs', 4), (' businesses', 4), (' our economy', 4), (' small businesses', 3), ('american businesses', 3), ('banks', 3), (' jobs', 2), ('coal industry', 2), ('us', 2), ('this country', 2), ('community financial institutions', 2)]\n"
     ]
    },
    {
     "data": {
      "text/plain": [
       "[('business', 67),\n",
       " ('economy', 38),\n",
       " ('companies', 3),\n",
       " ('this country', 2),\n",
       " ('community financial institutions', 2),\n",
       " ('economic growth', 2),\n",
       " ('banks', 2),\n",
       " ('domestic energy portfolio', 1),\n",
       " ('economic recovery, economic opportunities', 1),\n",
       " ('innovative investors', 1)]"
      ]
     },
     "execution_count": 149,
     "metadata": {},
     "output_type": "execute_result"
    }
   ],
   "source": [
    "objs_counter = Counter([splitted for el in df.objects \n",
    "                        for splitted in el.split(',') \n",
    "                        ])\n",
    "print(objs_counter.most_common(20))\n",
    "\n",
    "objs_clean = df.objects.copy()\n",
    "\n",
    "oc = objs_clean\n",
    "oc[oc.apply(lambda s: 'business' in s)] = 'business'\n",
    "oc[oc.apply(lambda s: 'economy' in s)] = 'economy'\n",
    "oc = oc[oc != '']\n",
    "Counter(oc).most_common(10)"
   ]
  }
 ],
 "metadata": {
  "kernelspec": {
   "display_name": "Python 3",
   "language": "python",
   "name": "python3"
  },
  "language_info": {
   "codemirror_mode": {
    "name": "ipython",
    "version": 3
   },
   "file_extension": ".py",
   "mimetype": "text/x-python",
   "name": "python",
   "nbconvert_exporter": "python",
   "pygments_lexer": "ipython3",
   "version": "3.7.0"
  }
 },
 "nbformat": 4,
 "nbformat_minor": 2
}
