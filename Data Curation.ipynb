{
 "cells": [
  {
   "cell_type": "code",
   "execution_count": 1,
   "metadata": {},
   "outputs": [],
   "source": [
    "import iatv"
   ]
  },
  {
   "cell_type": "code",
   "execution_count": 2,
   "metadata": {},
   "outputs": [
    {
     "name": "stdout",
     "output_type": "stream",
     "text": [
      "15\n",
      "15\n"
     ]
    }
   ],
   "source": [
    "items = iatv.search_items(\n",
    "    'EPA AND strangle',\n",
    "    time='201701', \n",
    "    rows=1000\n",
    ")\n",
    "\n",
    "shows = [item for item in items if 'commercial' not in item]\n",
    "\n",
    "print(len(shows))\n",
    "print(len(items))"
   ]
  },
  {
   "cell_type": "code",
   "execution_count": 3,
   "metadata": {},
   "outputs": [
    {
     "data": {
      "text/plain": [
       "dict_keys(['identifier', 'title', 'downloads', 'collection', 'creator', 'snip', 'start', 'thumb', '__img__', '__imght__', '__href__', 'topic', 'video'])"
      ]
     },
     "execution_count": 3,
     "metadata": {},
     "output_type": "execute_result"
    }
   ],
   "source": [
    "s0 = shows[0]\n",
    "s0.keys()"
   ]
  },
  {
   "cell_type": "code",
   "execution_count": 4,
   "metadata": {},
   "outputs": [
    {
     "name": "stdout",
     "output_type": "stream",
     "text": [
      "https://archive.org/download/FBC_20170104_010000_Kennedy/FBC_20170104_010000_Kennedy.mp4?t=83/143&ignore=x.mp4\n",
      "\n"
     ]
    }
   ],
   "source": [
    "print(s0['video'])\n",
    "print()"
   ]
  },
  {
   "cell_type": "code",
   "execution_count": 5,
   "metadata": {},
   "outputs": [
    {
     "data": {
      "text/plain": [
       "1"
      ]
     },
     "execution_count": 5,
     "metadata": {},
     "output_type": "execute_result"
    }
   ],
   "source": [
    "from collections import Counter\n",
    "ids = [s['identifier'] for s in shows]\n",
    "# Checking that there are no repeats. \n",
    "np.max(list(Counter(ids).values()))"
   ]
  },
  {
   "cell_type": "code",
   "execution_count": 6,
   "metadata": {},
   "outputs": [
    {
     "data": {
      "text/plain": [
       "['FBC_20170104_010000_Kennedy',\n",
       " 'MSNBCW_20170118_160000_MSNBC_Live_With_Tamron_Hall',\n",
       " 'KPIX_20170126_010000_KPIX_5_News_at_5PM',\n",
       " 'CSPAN_20170125_203200_SBA_Administrator_Linda_McMahon_Testifies_at_Confirmation_Hearing',\n",
       " 'CSPAN3_20170125_154700_SBA_Administrator_Linda_McMahon_Testifies_at_Confirmation_Hearing']"
      ]
     },
     "execution_count": 6,
     "metadata": {},
     "output_type": "execute_result"
    }
   ],
   "source": [
    "# There are, however, reruns.\n",
    "[s['identifier'] for s in shows[:5]]"
   ]
  },
  {
   "cell_type": "code",
   "execution_count": 7,
   "metadata": {},
   "outputs": [],
   "source": [
    "s0 = iatv.Show(shows[0]['identifier'])"
   ]
  },
  {
   "cell_type": "code",
   "execution_count": 14,
   "metadata": {},
   "outputs": [
    {
     "data": {
      "text/plain": [
       "\" risen to the top. in my state and in our <b>dealings</b> <b>the</b> <em>epa</em> <b>is</b> <b>way</b> up there. and after that there's others that come in behind. but if you ask any businessman today, be it a small business map or a big business man but particularly small business, what's the biggest challenge you face today. and they will invariably not say it's access to capital or taxes are too high or whatever. they will tell you the regulatory structure of america today is strangling businesses. and you'll find that -- everybody at this table can tell stories about government agencies coming into small businesses and causing them a great deal of difficulty. we have an operation within the sba called the operation of advoerks. they're supposed to be independent. they haven't been. they're supposed to stand up and complain loudly every time the federal government does something 245 affects small businesses. there is a process in place for them to actually formally do this. it has not worked very well. i'm hoping as we go forward we'll be able to make it work better. the poster child for that was rules regarding wa\""
      ]
     },
     "execution_count": 14,
     "metadata": {},
     "output_type": "execute_result"
    }
   ],
   "source": [
    "shows[5]['snip']"
   ]
  },
  {
   "cell_type": "markdown",
   "metadata": {},
   "source": [
    "## Current search results and data\n",
    "\n",
    "There is only one identifier per set of search results. This is maybe a problem. This means that only the first instance of a match is reported in the search results. I have a feeling that $\\Pr(> 1~\\mathrm{matches} | 1~\\mathrm{match})$ is rather high; if there is one instance of MV there is a high probability of there being more than one. \n",
    "\n",
    "For now I will ignore this problem, and assume that the probability of more than one is zero. This is surely not correct, but we will get some information on who is using metaphorical violence most often, and when. I will do a full prototype run with just the first search result found. Then I will go through all potential instances and download the transcripts, and search the transcripts manually for more instances of the metaphorical violence of interest.\n",
    "\n",
    "The following cells perform the search and insert into Project from search results."
   ]
  },
  {
   "cell_type": "code",
   "execution_count": null,
   "metadata": {},
   "outputs": [],
   "source": [
    "# items = iatv.search_items(\n",
    "#     'EPA AND strangle',\n",
    "#     time='20160101-20170630', \n",
    "#     rows=1000\n",
    "# )\n",
    "\n",
    "# shows = [item for item in items if 'commercial' not in item]\n",
    "\n",
    "# print('Number of items:', len(items))\n",
    "# print('Number of shows:', len(shows))\n",
    "\n",
    "# ids = [s['identifier'] for s in shows]\n",
    "# # Checking that there are no repeats.\n",
    "# np.max(list(Counter(ids).values()))"
   ]
  },
  {
   "cell_type": "code",
   "execution_count": 24,
   "metadata": {},
   "outputs": [],
   "source": [
    "import sys\n",
    "import os\n",
    "\n",
    "# Web app & data model config file, used on next import.\n",
    "os.environ['CONFIG_FILE'] = 'conf/default.cfg'\n",
    "\n",
    "from metacorps.app.models import Project"
   ]
  },
  {
   "cell_type": "code",
   "execution_count": 25,
   "metadata": {},
   "outputs": [],
   "source": [
    "def remove_commercials(item_list):\n",
    "    return [item for item in item_list if 'commercial' not in item]"
   ]
  },
  {
   "cell_type": "code",
   "execution_count": 52,
   "metadata": {},
   "outputs": [
    {
     "name": "stdout",
     "output_type": "stream",
     "text": [
      "{'kill*': '(epa OR e.p.a. OR \"environmental protection agency\" OR regulat*) AND kill*', 'strangl*': '(epa OR e.p.a. OR \"environmental protection agency\" OR regulat*) AND strangl*'}\n"
     ]
    }
   ],
   "source": [
    "\n",
    "time_rng = '20160101-20171231'\n",
    "base_query = '(epa OR e.p.a. OR \"environmental protection agency\" OR regulat*) AND '\n",
    "queries = {\n",
    "    'kill*': base_query + 'kill*',\n",
    "    'strangl*': base_query + 'strangl*'\n",
    "}\n",
    "print(queries)"
   ]
  },
  {
   "cell_type": "code",
   "execution_count": 55,
   "metadata": {},
   "outputs": [],
   "source": [
    "search_results = {\n",
    "    k: iatv.search_items(query, time=time_rng, rows=1000)\n",
    "    for k, query in queries.items()\n",
    "}"
   ]
  },
  {
   "cell_type": "code",
   "execution_count": 56,
   "metadata": {
    "scrolled": true
   },
   "outputs": [
    {
     "name": "stdout",
     "output_type": "stream",
     "text": [
      "715\n",
      "684\n"
     ]
    }
   ],
   "source": [
    "print(len(search_results['kill*']))\n",
    "print(len(search_results['strangl*']))"
   ]
  },
  {
   "cell_type": "code",
   "execution_count": 57,
   "metadata": {},
   "outputs": [],
   "source": [
    "search_results = {\n",
    "    k: iatv.search_items(query, time=time_rng, rows=2000)\n",
    "    for k, query in queries.items()\n",
    "}"
   ]
  },
  {
   "cell_type": "code",
   "execution_count": 58,
   "metadata": {},
   "outputs": [
    {
     "name": "stdout",
     "output_type": "stream",
     "text": [
      "1499\n",
      "684\n"
     ]
    }
   ],
   "source": [
    "print(len(search_results['kill*']))\n",
    "print(len(search_results['strangl*']))"
   ]
  },
  {
   "cell_type": "code",
   "execution_count": 59,
   "metadata": {},
   "outputs": [],
   "source": [
    "kill_res = iatv.search_items(queries['kill*'], time=time_rng, rows=3000)"
   ]
  },
  {
   "cell_type": "code",
   "execution_count": 60,
   "metadata": {},
   "outputs": [
    {
     "name": "stdout",
     "output_type": "stream",
     "text": [
      "2277\n"
     ]
    }
   ],
   "source": [
    "print(len(kill_res))"
   ]
  },
  {
   "cell_type": "code",
   "execution_count": 61,
   "metadata": {},
   "outputs": [
    {
     "name": "stdout",
     "output_type": "stream",
     "text": [
      "3053\n"
     ]
    }
   ],
   "source": [
    "kill_res = iatv.search_items(queries['kill*'], time=time_rng, rows=4000)\n",
    "print(len(kill_res))"
   ]
  },
  {
   "cell_type": "code",
   "execution_count": 62,
   "metadata": {},
   "outputs": [
    {
     "name": "stdout",
     "output_type": "stream",
     "text": [
      "4746\n"
     ]
    }
   ],
   "source": [
    "kill_res = iatv.search_items(queries['kill*'], time=time_rng, rows=6000)\n",
    "print(len(kill_res))"
   ]
  },
  {
   "cell_type": "markdown",
   "metadata": {},
   "source": [
    "I don't know what's going on here, but there are too many matches. I believe this searches over the entire show, and there is no preference given to the AND search terms occurring near each other. So, there are a lot of shows apparently that have some form of \"kill\" in them and epa or regulat\\*. Strangle is the more interesting one to me, as it's very vivid to me, and I want eventually to see how this one versus some others affect people. \n",
    "\n",
    "So, I'm going with just the strangle results."
   ]
  },
  {
   "cell_type": "code",
   "execution_count": 63,
   "metadata": {},
   "outputs": [],
   "source": [
    "# double check no commercials\n",
    "strangle = remove_commercials(search_results['strangl*'])"
   ]
  },
  {
   "cell_type": "code",
   "execution_count": 65,
   "metadata": {},
   "outputs": [
    {
     "data": {
      "text/plain": [
       "684"
      ]
     },
     "execution_count": 65,
     "metadata": {},
     "output_type": "execute_result"
    }
   ],
   "source": [
    "len(strangle)"
   ]
  },
  {
   "cell_type": "markdown",
   "metadata": {},
   "source": [
    "Apparently there are no commercials in the search results. Another benefit of using TVNA search directly. So many matches were for commercials, and commercial format changed (upper vs. lower case) between 2012 and 2016, and there was no other simple way I could think of to remove commercials. "
   ]
  },
  {
   "cell_type": "code",
   "execution_count": 70,
   "metadata": {},
   "outputs": [],
   "source": [
    "proj = Project.from_search_results({'epa-reg-strangle': strangle}, project_name='EPA Metvi')"
   ]
  },
  {
   "cell_type": "code",
   "execution_count": 71,
   "metadata": {},
   "outputs": [
    {
     "data": {
      "text/plain": [
       "<Project: Project object>"
      ]
     },
     "execution_count": 71,
     "metadata": {},
     "output_type": "execute_result"
    }
   ],
   "source": [
    "proj.save()"
   ]
  },
  {
   "cell_type": "markdown",
   "metadata": {},
   "source": [
    "To see the newly-saved project, `cd metacorps` then run\n",
    "\n",
    "```bash\n",
    "export CONFIG_FILE=conf/default.cfg\n",
    "export FLASK_APP=app/app.py\n",
    "export FLASK_ENV=development\n",
    "flask run --with-threads\n",
    "```\n",
    "\n",
    "then visit http://127.0.0.1:5000/"
   ]
  },
  {
   "cell_type": "markdown",
   "metadata": {},
   "source": [
    "## Notes on coding\n",
    "\n",
    "* Using this format for politicians ({R/D}-{State}; {District or other descriptor if applicable})\n",
    "* Putting xN if there are N instances of metaphorical violence. Multiple subjects and objects will be noted, as well as multiple speakers comma-separated.\n",
    "* Double counting same speech on different channels.\n",
    "* Ignoring Obamacare strangling businesses, but including Dodd-Frank. Exception: \"Obamacare regulation\"."
   ]
  },
  {
   "cell_type": "markdown",
   "metadata": {},
   "source": [
    "# Analysis"
   ]
  },
  {
   "cell_type": "code",
   "execution_count": 72,
   "metadata": {},
   "outputs": [],
   "source": [
    "from metacorps.app.models import Project"
   ]
  },
  {
   "cell_type": "code",
   "execution_count": 76,
   "metadata": {},
   "outputs": [],
   "source": [
    "epa = Project.objects(name='EPA Metvi')[0]"
   ]
  },
  {
   "cell_type": "code",
   "execution_count": 77,
   "metadata": {},
   "outputs": [
    {
     "data": {
      "text/plain": [
       "'EPA Metvi'"
      ]
     },
     "execution_count": 77,
     "metadata": {},
     "output_type": "execute_result"
    }
   ],
   "source": [
    "epa.name"
   ]
  },
  {
   "cell_type": "code",
   "execution_count": 87,
   "metadata": {},
   "outputs": [
    {
     "name": "stdout",
     "output_type": "stream",
     "text": [
      "684\n",
      "169\n"
     ]
    }
   ],
   "source": [
    "f0 = epa.facets[0]\n",
    "print(len(f0.instances))\n",
    "print(len([inst for inst in f0.instances if inst.include]))"
   ]
  },
  {
   "cell_type": "code",
   "execution_count": 91,
   "metadata": {},
   "outputs": [],
   "source": [
    "includes = [inst for inst in f0.instances if inst.include]\n",
    "speakers = [inst.spoken_by for inst in includes]"
   ]
  },
  {
   "cell_type": "code",
   "execution_count": 99,
   "metadata": {},
   "outputs": [
    {
     "data": {
      "text/plain": [
       "[('Maria Bartiromo', 16),\n",
       " ('Donald Trump', 9),\n",
       " ('John Cornyn (R-Texas; Senate)', 5),\n",
       " ('Paul Ryan', 4),\n",
       " ('Kellyanne Conway', 4),\n",
       " ('Dan Sullivan (R-Alaska; Senate)', 3),\n",
       " ('Liz Cheney (R-Wyoming; At Large)', 2),\n",
       " ('Mike Huckabee', 2),\n",
       " ('Rick Perry', 2),\n",
       " ('Paul Ryan (R-Wisconsin; 1st District)', 2)]"
      ]
     },
     "execution_count": 99,
     "metadata": {},
     "output_type": "execute_result"
    }
   ],
   "source": [
    "from collections import Counter\n",
    "\n",
    "\n",
    "\n",
    "c = Counter(speakers)\n",
    "del c['contributor']\n",
    "del c['']\n",
    "del c['host']\n",
    "del c['Panelist']\n",
    "c.most_common(10)"
   ]
  },
  {
   "cell_type": "code",
   "execution_count": 98,
   "metadata": {},
   "outputs": [
    {
     "data": {
      "text/plain": [
       "SON([('text', \"<b></b> <em>environmental</em> <em>protection</em> <em>agency</em> <b>was</b> <b>responsible</b> for the blowout of the gold king mine in colorado that spilled three million gallons of wastewater, impacting new mexico, colorado, utah, arizona and the navajo nation. i was in farmington, new mexico, when the toxic plume turned the river there yellow. i met with the community and heard their concerns about the toll that the spill was taking on businesses, farmers, families, individuals. madam chair, we are almost one year removed from the spill and in communities that have been impacted, there remains serious concerns about the long-term effects that the spill will have on the river and all that its water sustains from drinking water to farming and livestock. monitoring is essential to ensure that they have the data they need to protect the health on all those who rely on this water. unfortunately, the state of new mexico and the e.p.a. have been unable to agree on what the long-term monitoring should look like. as a result, the state has moved ahead with a lawsuit against the e.p.a.. madam chair, it's disappointing it has come to this \"), ('source_id', ObjectId('5bfee443e0484311f105894e')), ('figurative', True), ('include', True), ('conceptual_metaphor', ''), ('objects', 'domestic energy portfolio'), ('subjects', 'methane regulations'), ('active_passive', ''), ('tense', ''), ('description', ''), ('spoken_by', 'Evan Jenkins (R-West Virginia; 3rd District)'), ('repeat', False), ('rerun', False), ('reviewed', False)])"
      ]
     },
     "execution_count": 98,
     "metadata": {},
     "output_type": "execute_result"
    }
   ],
   "source": [
    "i0 = includes[0]\n",
    "\n",
    "i0.to_mongo()"
   ]
  },
  {
   "cell_type": "code",
   "execution_count": 102,
   "metadata": {},
   "outputs": [
    {
     "data": {
      "text/plain": [
       "ObjectId('5bfee443e0484311f105894e')"
      ]
     },
     "execution_count": 102,
     "metadata": {},
     "output_type": "execute_result"
    }
   ],
   "source": [
    "i0.source_id"
   ]
  },
  {
   "cell_type": "code",
   "execution_count": 106,
   "metadata": {},
   "outputs": [],
   "source": [
    "from metacorps.projects.common.export_project import ProjectExporter\n",
    "\n",
    "df = ProjectExporter('EPA Metvi').export_dataframe()"
   ]
  },
  {
   "cell_type": "code",
   "execution_count": 235,
   "metadata": {},
   "outputs": [
    {
     "name": "stdout",
     "output_type": "stream",
     "text": [
      "169\n"
     ]
    },
    {
     "data": {
      "text/html": [
       "<div>\n",
       "<style scoped>\n",
       "    .dataframe tbody tr th:only-of-type {\n",
       "        vertical-align: middle;\n",
       "    }\n",
       "\n",
       "    .dataframe tbody tr th {\n",
       "        vertical-align: top;\n",
       "    }\n",
       "\n",
       "    .dataframe thead th {\n",
       "        text-align: right;\n",
       "    }\n",
       "</style>\n",
       "<table border=\"1\" class=\"dataframe\">\n",
       "  <thead>\n",
       "    <tr style=\"text-align: right;\">\n",
       "      <th></th>\n",
       "      <th>start_localtime</th>\n",
       "      <th>start_time</th>\n",
       "      <th>stop_time</th>\n",
       "      <th>runtime_seconds</th>\n",
       "      <th>network</th>\n",
       "      <th>program_name</th>\n",
       "      <th>iatv_id</th>\n",
       "      <th>facet_word</th>\n",
       "      <th>conceptual_metaphor</th>\n",
       "      <th>spoken_by</th>\n",
       "      <th>subjects</th>\n",
       "      <th>objects</th>\n",
       "      <th>active_passive</th>\n",
       "      <th>text</th>\n",
       "      <th>tense</th>\n",
       "      <th>repeat</th>\n",
       "      <th>repeat_index</th>\n",
       "    </tr>\n",
       "  </thead>\n",
       "  <tbody>\n",
       "    <tr>\n",
       "      <th>0</th>\n",
       "      <td>2016-07-12 23:00:00</td>\n",
       "      <td>None</td>\n",
       "      <td>None</td>\n",
       "      <td>None</td>\n",
       "      <td>CSPAN</td>\n",
       "      <td>US House of Representatives Special Orders</td>\n",
       "      <td>CSPAN_20160712_230000_US_House_of_Representati...</td>\n",
       "      <td>epa-reg-strangle</td>\n",
       "      <td></td>\n",
       "      <td>Evan Jenkins (R-West Virginia; 3rd District)</td>\n",
       "      <td>methane regulations</td>\n",
       "      <td>domestic energy portfolio</td>\n",
       "      <td></td>\n",
       "      <td>&lt;b&gt;&lt;/b&gt; &lt;em&gt;environmental&lt;/em&gt; &lt;em&gt;protection&lt;...</td>\n",
       "      <td></td>\n",
       "      <td>False</td>\n",
       "      <td>None</td>\n",
       "    </tr>\n",
       "    <tr>\n",
       "      <th>1</th>\n",
       "      <td>2016-09-21 20:00:00</td>\n",
       "      <td>None</td>\n",
       "      <td>None</td>\n",
       "      <td>None</td>\n",
       "      <td>CSPAN</td>\n",
       "      <td>U.S. House of Representatives Legislative Busi...</td>\n",
       "      <td>CSPAN_20160921_200000_U.S._House_of_Representa...</td>\n",
       "      <td>epa-reg-strangle</td>\n",
       "      <td></td>\n",
       "      <td>Bob Goodlatte (R-Virginia), Tom Marino (R-Penn...</td>\n",
       "      <td>washington regulators, ozone standards</td>\n",
       "      <td>economic recovery, economic opportunities</td>\n",
       "      <td></td>\n",
       "      <td>&lt;b&gt;michigan&lt;/b&gt; &lt;b&gt;v.&lt;/b&gt; &lt;em&gt;e.p.a&lt;/em&gt;. &lt;b&gt;...</td>\n",
       "      <td></td>\n",
       "      <td>False</td>\n",
       "      <td>None</td>\n",
       "    </tr>\n",
       "    <tr>\n",
       "      <th>2</th>\n",
       "      <td>2017-02-02 15:59:00</td>\n",
       "      <td>None</td>\n",
       "      <td>None</td>\n",
       "      <td>None</td>\n",
       "      <td>CSPAN2</td>\n",
       "      <td>U.S. Senate Advances HHS Secretary Nomination</td>\n",
       "      <td>CSPAN2_20170202_155900_U.S._Senate_Advances_HH...</td>\n",
       "      <td>epa-reg-strangle</td>\n",
       "      <td></td>\n",
       "      <td>John Cornyn (R-Texas; Senate)</td>\n",
       "      <td>extreme buffer rule, regulatory overreach</td>\n",
       "      <td>growth of our economy, jobs</td>\n",
       "      <td></td>\n",
       "      <td>in &lt;b&gt;mind,&lt;/b&gt; &lt;b&gt;the&lt;/b&gt; &lt;em&gt;environmental&lt;...</td>\n",
       "      <td></td>\n",
       "      <td>False</td>\n",
       "      <td>None</td>\n",
       "    </tr>\n",
       "    <tr>\n",
       "      <th>3</th>\n",
       "      <td>2017-01-05 18:59:00</td>\n",
       "      <td>None</td>\n",
       "      <td>None</td>\n",
       "      <td>None</td>\n",
       "      <td>CSPAN</td>\n",
       "      <td>U.S. House Legislative Business</td>\n",
       "      <td>CSPAN_20170105_185900_U.S._House_Legislative_B...</td>\n",
       "      <td>epa-reg-strangle</td>\n",
       "      <td></td>\n",
       "      <td>Tom Marino (R-Pennsylvania; 10th District)</td>\n",
       "      <td>regulation, federal regulations, Obama's regul...</td>\n",
       "      <td>economy, economy, job creation</td>\n",
       "      <td></td>\n",
       "      <td>. the gentleman from virginia is recognized. m...</td>\n",
       "      <td></td>\n",
       "      <td>False</td>\n",
       "      <td>None</td>\n",
       "    </tr>\n",
       "    <tr>\n",
       "      <th>4</th>\n",
       "      <td>2017-03-01 21:00:00</td>\n",
       "      <td>None</td>\n",
       "      <td>None</td>\n",
       "      <td>None</td>\n",
       "      <td>CSPAN</td>\n",
       "      <td>U.S. House Meets for Legislative Business</td>\n",
       "      <td>CSPAN_20170301_210000_U.S._House_Meets_for_Leg...</td>\n",
       "      <td>epa-reg-strangle</td>\n",
       "      <td></td>\n",
       "      <td>David Young (R-Iowa; 3rd District)</td>\n",
       "      <td>red tape</td>\n",
       "      <td>economy and jobs engine</td>\n",
       "      <td></td>\n",
       "      <td>&lt;b&gt;red&lt;/b&gt; &lt;b&gt;tape&lt;/b&gt; &lt;em&gt;strangling&lt;/em&gt; &lt;b...</td>\n",
       "      <td></td>\n",
       "      <td>False</td>\n",
       "      <td>None</td>\n",
       "    </tr>\n",
       "  </tbody>\n",
       "</table>\n",
       "</div>"
      ],
      "text/plain": [
       "      start_localtime start_time stop_time runtime_seconds network  \\\n",
       "0 2016-07-12 23:00:00       None      None            None   CSPAN   \n",
       "1 2016-09-21 20:00:00       None      None            None   CSPAN   \n",
       "2 2017-02-02 15:59:00       None      None            None  CSPAN2   \n",
       "3 2017-01-05 18:59:00       None      None            None   CSPAN   \n",
       "4 2017-03-01 21:00:00       None      None            None   CSPAN   \n",
       "\n",
       "                                        program_name  \\\n",
       "0         US House of Representatives Special Orders   \n",
       "1  U.S. House of Representatives Legislative Busi...   \n",
       "2      U.S. Senate Advances HHS Secretary Nomination   \n",
       "3                    U.S. House Legislative Business   \n",
       "4          U.S. House Meets for Legislative Business   \n",
       "\n",
       "                                             iatv_id        facet_word  \\\n",
       "0  CSPAN_20160712_230000_US_House_of_Representati...  epa-reg-strangle   \n",
       "1  CSPAN_20160921_200000_U.S._House_of_Representa...  epa-reg-strangle   \n",
       "2  CSPAN2_20170202_155900_U.S._Senate_Advances_HH...  epa-reg-strangle   \n",
       "3  CSPAN_20170105_185900_U.S._House_Legislative_B...  epa-reg-strangle   \n",
       "4  CSPAN_20170301_210000_U.S._House_Meets_for_Leg...  epa-reg-strangle   \n",
       "\n",
       "  conceptual_metaphor                                          spoken_by  \\\n",
       "0                           Evan Jenkins (R-West Virginia; 3rd District)   \n",
       "1                      Bob Goodlatte (R-Virginia), Tom Marino (R-Penn...   \n",
       "2                                          John Cornyn (R-Texas; Senate)   \n",
       "3                             Tom Marino (R-Pennsylvania; 10th District)   \n",
       "4                                     David Young (R-Iowa; 3rd District)   \n",
       "\n",
       "                                            subjects  \\\n",
       "0                                methane regulations   \n",
       "1             washington regulators, ozone standards   \n",
       "2          extreme buffer rule, regulatory overreach   \n",
       "3  regulation, federal regulations, Obama's regul...   \n",
       "4                                           red tape   \n",
       "\n",
       "                                     objects active_passive  \\\n",
       "0                  domestic energy portfolio                  \n",
       "1  economic recovery, economic opportunities                  \n",
       "2                growth of our economy, jobs                  \n",
       "3             economy, economy, job creation                  \n",
       "4                    economy and jobs engine                  \n",
       "\n",
       "                                                text tense repeat repeat_index  \n",
       "0  <b></b> <em>environmental</em> <em>protection<...        False         None  \n",
       "1   <b>michigan</b> <b>v.</b> <em>e.p.a</em>. <b>...        False         None  \n",
       "2   in <b>mind,</b> <b>the</b> <em>environmental<...        False         None  \n",
       "3  . the gentleman from virginia is recognized. m...        False         None  \n",
       "4   <b>red</b> <b>tape</b> <em>strangling</em> <b...        False         None  "
      ]
     },
     "execution_count": 235,
     "metadata": {},
     "output_type": "execute_result"
    }
   ],
   "source": [
    "print(len(df))\n",
    "df.head()"
   ]
  },
  {
   "cell_type": "code",
   "execution_count": 112,
   "metadata": {},
   "outputs": [
    {
     "data": {
      "text/plain": [
       "(array([ 6.,  7.,  3., 10., 13.,  6., 15., 13., 18., 11., 11., 20.,  4.,\n",
       "         6., 10.,  7.,  2.,  1.,  2.,  4.]),\n",
       " array([735969.95833333, 736005.45208333, 736040.94583333, 736076.43958333,\n",
       "        736111.93333333, 736147.42708333, 736182.92083333, 736218.41458333,\n",
       "        736253.90833333, 736289.40208333, 736324.89583333, 736360.38958333,\n",
       "        736395.88333333, 736431.37708333, 736466.87083333, 736502.36458333,\n",
       "        736537.85833333, 736573.35208333, 736608.84583333, 736644.33958333,\n",
       "        736679.83333333]),\n",
       " <a list of 20 Patch objects>)"
      ]
     },
     "execution_count": 112,
     "metadata": {},
     "output_type": "execute_result"
    },
    {
     "name": "stderr",
     "output_type": "stream",
     "text": [
      "/usr/local/lib/python3.7/site-packages/matplotlib/figure.py:2366: UserWarning: This figure includes Axes that are not compatible with tight_layout, so results might be incorrect.\n",
      "  warnings.warn(\"This figure includes Axes that are not compatible \"\n"
     ]
    },
    {
     "data": {
      "image/png": "[encoded data removed]",
      "text/plain": [
       "<Figure size 432x288 with 1 Axes>"
      ]
     },
     "metadata": {
      "needs_background": "light"
     },
     "output_type": "display_data"
    }
   ],
   "source": [
    "plt.hist(df.start_localtime, bins=20)"
   ]
  },
  {
   "cell_type": "code",
   "execution_count": 123,
   "metadata": {},
   "outputs": [
    {
     "name": "stdout",
     "output_type": "stream",
     "text": [
      "[1 1 1 1 2 1 1 1 3 2 1 1 1 1 8 2 1 1 2 1 1 1 1 2 1 1 1 1 2 1 1 1 1 1 1 1 1\n",
      " 2 2 1 2 2 2 1 1 1 1 1 1 2 2 1 1 1 1 1 1 1 2 1 1 4 1 1 1 2 1 1 2 1 1 1 1 1\n",
      " 2 1 1 1 1 1 1 1 2 1 1 2 1 2 1 1 1 1 1 2 1 1 1 1 1 1 1 2 1 1 1 1 1 1 1 1 1\n",
      " 2 4 1 2 1 1 1 1 1 1 1 1 1 1 1 1 1 1 1]\n"
     ]
    },
    {
     "data": {
      "text/plain": [
       "<matplotlib.axes._subplots.AxesSubplot at 0x120af6630>"
      ]
     },
     "execution_count": 123,
     "metadata": {},
     "output_type": "execute_result"
    },
    {
     "name": "stderr",
     "output_type": "stream",
     "text": [
      "/usr/local/lib/python3.7/site-packages/matplotlib/figure.py:2366: UserWarning: This figure includes Axes that are not compatible with tight_layout, so results might be incorrect.\n",
      "  warnings.warn(\"This figure includes Axes that are not compatible \"\n"
     ]
    },
    {
     "data": {
      "image/png": "[encoded data removed]",
      "text/plain": [
       "<Figure size 432x288 with 1 Axes>"
      ]
     },
     "metadata": {
      "needs_background": "light"
     },
     "output_type": "display_data"
    }
   ],
   "source": [
    "import pandas as pd\n",
    "import numpy as np\n",
    "\n",
    "c = Counter(df.start_localtime.dt.date)\n",
    "\n",
    "print(np.array(list(c.values())))\n",
    "\n",
    "s = pd.Series(index=c.keys(), data=list(c.values()))\n",
    "\n",
    "s.plot(style='ro')"
   ]
  },
  {
   "cell_type": "code",
   "execution_count": 126,
   "metadata": {},
   "outputs": [
    {
     "data": {
      "text/plain": [
       "Index([2016-01-06, 2016-01-11, 2016-01-20, 2016-01-28, 2016-01-31, 2016-02-01,\n",
       "       2016-02-14, 2016-02-26, 2016-02-27, 2016-03-04,\n",
       "       ...\n",
       "       2017-07-27, 2017-07-31, 2017-08-01, 2017-09-28, 2017-10-17, 2017-10-25,\n",
       "       2017-11-30, 2017-12-01, 2017-12-03, 2017-12-16],\n",
       "      dtype='object', length=130)"
      ]
     },
     "execution_count": 126,
     "metadata": {},
     "output_type": "execute_result"
    }
   ],
   "source": [
    "# Start on a Monday for weekly sums.\n",
    "s.index.sort_values()"
   ]
  },
  {
   "cell_type": "code",
   "execution_count": 127,
   "metadata": {},
   "outputs": [
    {
     "name": "stderr",
     "output_type": "stream",
     "text": [
      "/usr/local/lib/python3.7/site-packages/ipykernel_launcher.py:4: FutureWarning: Series.data is deprecated and will be removed in a future version\n",
      "  after removing the cwd from sys.path.\n"
     ]
    }
   ],
   "source": [
    "s2 = pd.Series(index=pd.date_range('2016-01-01', '2017-12-31', freq='D'),\n",
    "               data=0.0)\n",
    "\n",
    "s2[s.index] = s.data "
   ]
  },
  {
   "cell_type": "code",
   "execution_count": 137,
   "metadata": {},
   "outputs": [],
   "source": [
    "jittered = s2 + np.random.normal(scale=0.01, size=(len(s2)))"
   ]
  },
  {
   "cell_type": "code",
   "execution_count": 139,
   "metadata": {},
   "outputs": [
    {
     "data": {
      "text/plain": [
       "<matplotlib.axes._subplots.AxesSubplot at 0x1254589b0>"
      ]
     },
     "execution_count": 139,
     "metadata": {},
     "output_type": "execute_result"
    },
    {
     "name": "stderr",
     "output_type": "stream",
     "text": [
      "/usr/local/lib/python3.7/site-packages/matplotlib/figure.py:2366: UserWarning: This figure includes Axes that are not compatible with tight_layout, so results might be incorrect.\n",
      "  warnings.warn(\"This figure includes Axes that are not compatible \"\n"
     ]
    },
    {
     "data": {
      "image/png": "[encoded data removed]",
      "text/plain": [
       "<Figure size 432x288 with 1 Axes>"
      ]
     },
     "metadata": {
      "needs_background": "light"
     },
     "output_type": "display_data"
    }
   ],
   "source": [
    "jittered.plot(style='ko', ms=2)"
   ]
  },
  {
   "cell_type": "code",
   "execution_count": 140,
   "metadata": {},
   "outputs": [
    {
     "data": {
      "text/plain": [
       "<matplotlib.axes._subplots.AxesSubplot at 0x12553cd30>"
      ]
     },
     "execution_count": 140,
     "metadata": {},
     "output_type": "execute_result"
    },
    {
     "name": "stderr",
     "output_type": "stream",
     "text": [
      "/usr/local/lib/python3.7/site-packages/matplotlib/figure.py:2366: UserWarning: This figure includes Axes that are not compatible with tight_layout, so results might be incorrect.\n",
      "  warnings.warn(\"This figure includes Axes that are not compatible \"\n"
     ]
    },
    {
     "data": {
      "image/png": "[encoded data removed]",
      "text/plain": [
       "<Figure size 432x288 with 1 Axes>"
      ]
     },
     "metadata": {
      "needs_background": "light"
     },
     "output_type": "display_data"
    }
   ],
   "source": [
    "jittered['2016-09-01':'2017-05-30'].plot(style='ko', ms=2)"
   ]
  },
  {
   "cell_type": "code",
   "execution_count": 236,
   "metadata": {},
   "outputs": [
    {
     "name": "stderr",
     "output_type": "stream",
     "text": [
      "/usr/local/lib/python3.7/site-packages/matplotlib/figure.py:2366: UserWarning: This figure includes Axes that are not compatible with tight_layout, so results might be incorrect.\n",
      "  warnings.warn(\"This figure includes Axes that are not compatible \"\n"
     ]
    },
    {
     "data": {
      "image/png": "[encoded data removed]",
      "text/plain": [
       "<Figure size 432x288 with 1 Axes>"
      ]
     },
     "metadata": {
      "needs_background": "light"
     },
     "output_type": "display_data"
    }
   ],
   "source": [
    "# Start on a Monday for taking weekly aggregates\n",
    "# j = jittered['2016-01-04':]\n",
    "j = jittered\n",
    "\n",
    "jr = j.resample('1M').sum()\n",
    "jr.plot(style='ko')\n",
    "plt.ylim(0, 20)\n",
    "\n",
    "plt.ylabel('Violence metaphor uses', size=14)\n",
    "plt.xlabel('Month', size=14)\n",
    "plt.yticks(np.arange(0, 21, 2))\n",
    "plt.gca().grid(axis='x', which='minor')\n",
    "plt.gca().grid(axis='y', which='major')\n",
    "plt.title('Timeseries of uses of strangle metaphor', size=16)\n",
    "plt.savefig('/Users/mt/Desktop/timeseries.pdf')"
   ]
  },
  {
   "cell_type": "markdown",
   "metadata": {},
   "source": [
    "## Export transcripts of instances\n",
    "\n",
    "For close reading, we will export discourse around the violence signal, originally identified through a wildcard search `strangl*`. Then, we'll search the internet archive in a small time window around the known air date, and find only the specific phrase around the strangle-based metaphor.\n",
    "\n",
    "These will be saved to .docx in a format I will mostly guess at for Leigh to read into nVivo."
   ]
  },
  {
   "cell_type": "code",
   "execution_count": 188,
   "metadata": {},
   "outputs": [],
   "source": [
    "from docx import Document\n",
    "\n",
    "document = Document()\n",
    "\n",
    "document.add_heading('FBC - Mornings with Maria Bartiromo - 8/1/17', 1)\n",
    "\n",
    "p = document.add_paragraph('this is where the transcript will go...')\n",
    "p.add_run('the word \"strangling\" and words around it').bold = True\n",
    "p.add_run(' will be ')\n",
    "\n",
    "p.add_run('in bold').bold = True\n",
    "\n",
    "document.add_heading('CSPAN - CAPITOL HILL - 4/13/16', 1)\n",
    "\n",
    "p = document.add_paragraph('this is where the transcript will go...')\n",
    "p.add_run('the word \"strangling\" and words around it').bold = True\n",
    "p.add_run(' will be ')\n",
    "\n",
    "p.add_run('in bold').bold = True\n",
    "\n",
    "document.save('/Users/mt/Desktop/demo.docx')"
   ]
  },
  {
   "cell_type": "markdown",
   "metadata": {},
   "source": [
    "OK, got that little prototype done. Going to write a script to build instance summaries. This summary will be like above with channel, \n",
    "show name, and date in the second-level header. They will be ordered by date, with the first-level header being the Month Year for ease of navigation. \n",
    "\n",
    "The script will iterate over dates and instances on each date, plugging in an instance and the instance context. That instance context needs to be fetched from the TVNA by using the exact context around strangling and limiting the date to the air date of the instance, -/+ one day just to be safe. We'll keep track of any that can't be found, or where there's more than one search result. "
   ]
  },
  {
   "cell_type": "code",
   "execution_count": 189,
   "metadata": {},
   "outputs": [
    {
     "data": {
      "text/html": [
       "<div>\n",
       "<style scoped>\n",
       "    .dataframe tbody tr th:only-of-type {\n",
       "        vertical-align: middle;\n",
       "    }\n",
       "\n",
       "    .dataframe tbody tr th {\n",
       "        vertical-align: top;\n",
       "    }\n",
       "\n",
       "    .dataframe thead th {\n",
       "        text-align: right;\n",
       "    }\n",
       "</style>\n",
       "<table border=\"1\" class=\"dataframe\">\n",
       "  <thead>\n",
       "    <tr style=\"text-align: right;\">\n",
       "      <th></th>\n",
       "      <th>start_localtime</th>\n",
       "      <th>start_time</th>\n",
       "      <th>stop_time</th>\n",
       "      <th>runtime_seconds</th>\n",
       "      <th>network</th>\n",
       "      <th>program_name</th>\n",
       "      <th>iatv_id</th>\n",
       "      <th>facet_word</th>\n",
       "      <th>conceptual_metaphor</th>\n",
       "      <th>spoken_by</th>\n",
       "      <th>subjects</th>\n",
       "      <th>objects</th>\n",
       "      <th>active_passive</th>\n",
       "      <th>text</th>\n",
       "      <th>tense</th>\n",
       "      <th>repeat</th>\n",
       "      <th>repeat_index</th>\n",
       "    </tr>\n",
       "  </thead>\n",
       "  <tbody>\n",
       "    <tr>\n",
       "      <th>0</th>\n",
       "      <td>2016-07-12 23:00:00</td>\n",
       "      <td>None</td>\n",
       "      <td>None</td>\n",
       "      <td>None</td>\n",
       "      <td>CSPAN</td>\n",
       "      <td>US House of Representatives Special Orders</td>\n",
       "      <td>CSPAN_20160712_230000_US_House_of_Representati...</td>\n",
       "      <td>epa-reg-strangle</td>\n",
       "      <td></td>\n",
       "      <td>Evan Jenkins (R-West Virginia; 3rd District)</td>\n",
       "      <td>methane regulations</td>\n",
       "      <td>domestic energy portfolio</td>\n",
       "      <td></td>\n",
       "      <td>&lt;b&gt;&lt;/b&gt; &lt;em&gt;environmental&lt;/em&gt; &lt;em&gt;protection&lt;...</td>\n",
       "      <td></td>\n",
       "      <td>False</td>\n",
       "      <td>None</td>\n",
       "    </tr>\n",
       "    <tr>\n",
       "      <th>1</th>\n",
       "      <td>2016-09-21 20:00:00</td>\n",
       "      <td>None</td>\n",
       "      <td>None</td>\n",
       "      <td>None</td>\n",
       "      <td>CSPAN</td>\n",
       "      <td>U.S. House of Representatives Legislative Busi...</td>\n",
       "      <td>CSPAN_20160921_200000_U.S._House_of_Representa...</td>\n",
       "      <td>epa-reg-strangle</td>\n",
       "      <td></td>\n",
       "      <td>Bob Goodlatte (R-Virginia), Tom Marino (R-Penn...</td>\n",
       "      <td>washington regulators, ozone standards</td>\n",
       "      <td>economic recovery, economic opportunities</td>\n",
       "      <td></td>\n",
       "      <td>&lt;b&gt;michigan&lt;/b&gt; &lt;b&gt;v.&lt;/b&gt; &lt;em&gt;e.p.a&lt;/em&gt;. &lt;b&gt;...</td>\n",
       "      <td></td>\n",
       "      <td>False</td>\n",
       "      <td>None</td>\n",
       "    </tr>\n",
       "    <tr>\n",
       "      <th>2</th>\n",
       "      <td>2017-02-02 15:59:00</td>\n",
       "      <td>None</td>\n",
       "      <td>None</td>\n",
       "      <td>None</td>\n",
       "      <td>CSPAN2</td>\n",
       "      <td>U.S. Senate Advances HHS Secretary Nomination</td>\n",
       "      <td>CSPAN2_20170202_155900_U.S._Senate_Advances_HH...</td>\n",
       "      <td>epa-reg-strangle</td>\n",
       "      <td></td>\n",
       "      <td>John Cornyn (R-Texas; Senate)</td>\n",
       "      <td>extreme buffer rule, regulatory overreach</td>\n",
       "      <td>growth of our economy, jobs</td>\n",
       "      <td></td>\n",
       "      <td>in &lt;b&gt;mind,&lt;/b&gt; &lt;b&gt;the&lt;/b&gt; &lt;em&gt;environmental&lt;...</td>\n",
       "      <td></td>\n",
       "      <td>False</td>\n",
       "      <td>None</td>\n",
       "    </tr>\n",
       "    <tr>\n",
       "      <th>3</th>\n",
       "      <td>2017-01-05 18:59:00</td>\n",
       "      <td>None</td>\n",
       "      <td>None</td>\n",
       "      <td>None</td>\n",
       "      <td>CSPAN</td>\n",
       "      <td>U.S. House Legislative Business</td>\n",
       "      <td>CSPAN_20170105_185900_U.S._House_Legislative_B...</td>\n",
       "      <td>epa-reg-strangle</td>\n",
       "      <td></td>\n",
       "      <td>Tom Marino (R-Pennsylvania; 10th District)</td>\n",
       "      <td>regulation, federal regulations, Obama's regul...</td>\n",
       "      <td>economy, economy, job creation</td>\n",
       "      <td></td>\n",
       "      <td>. the gentleman from virginia is recognized. m...</td>\n",
       "      <td></td>\n",
       "      <td>False</td>\n",
       "      <td>None</td>\n",
       "    </tr>\n",
       "    <tr>\n",
       "      <th>4</th>\n",
       "      <td>2017-03-01 21:00:00</td>\n",
       "      <td>None</td>\n",
       "      <td>None</td>\n",
       "      <td>None</td>\n",
       "      <td>CSPAN</td>\n",
       "      <td>U.S. House Meets for Legislative Business</td>\n",
       "      <td>CSPAN_20170301_210000_U.S._House_Meets_for_Leg...</td>\n",
       "      <td>epa-reg-strangle</td>\n",
       "      <td></td>\n",
       "      <td>David Young (R-Iowa; 3rd District)</td>\n",
       "      <td>red tape</td>\n",
       "      <td>economy and jobs engine</td>\n",
       "      <td></td>\n",
       "      <td>&lt;b&gt;red&lt;/b&gt; &lt;b&gt;tape&lt;/b&gt; &lt;em&gt;strangling&lt;/em&gt; &lt;b...</td>\n",
       "      <td></td>\n",
       "      <td>False</td>\n",
       "      <td>None</td>\n",
       "    </tr>\n",
       "  </tbody>\n",
       "</table>\n",
       "</div>"
      ],
      "text/plain": [
       "      start_localtime start_time stop_time runtime_seconds network  \\\n",
       "0 2016-07-12 23:00:00       None      None            None   CSPAN   \n",
       "1 2016-09-21 20:00:00       None      None            None   CSPAN   \n",
       "2 2017-02-02 15:59:00       None      None            None  CSPAN2   \n",
       "3 2017-01-05 18:59:00       None      None            None   CSPAN   \n",
       "4 2017-03-01 21:00:00       None      None            None   CSPAN   \n",
       "\n",
       "                                        program_name  \\\n",
       "0         US House of Representatives Special Orders   \n",
       "1  U.S. House of Representatives Legislative Busi...   \n",
       "2      U.S. Senate Advances HHS Secretary Nomination   \n",
       "3                    U.S. House Legislative Business   \n",
       "4          U.S. House Meets for Legislative Business   \n",
       "\n",
       "                                             iatv_id        facet_word  \\\n",
       "0  CSPAN_20160712_230000_US_House_of_Representati...  epa-reg-strangle   \n",
       "1  CSPAN_20160921_200000_U.S._House_of_Representa...  epa-reg-strangle   \n",
       "2  CSPAN2_20170202_155900_U.S._Senate_Advances_HH...  epa-reg-strangle   \n",
       "3  CSPAN_20170105_185900_U.S._House_Legislative_B...  epa-reg-strangle   \n",
       "4  CSPAN_20170301_210000_U.S._House_Meets_for_Leg...  epa-reg-strangle   \n",
       "\n",
       "  conceptual_metaphor                                          spoken_by  \\\n",
       "0                           Evan Jenkins (R-West Virginia; 3rd District)   \n",
       "1                      Bob Goodlatte (R-Virginia), Tom Marino (R-Penn...   \n",
       "2                                          John Cornyn (R-Texas; Senate)   \n",
       "3                             Tom Marino (R-Pennsylvania; 10th District)   \n",
       "4                                     David Young (R-Iowa; 3rd District)   \n",
       "\n",
       "                                            subjects  \\\n",
       "0                                methane regulations   \n",
       "1             washington regulators, ozone standards   \n",
       "2          extreme buffer rule, regulatory overreach   \n",
       "3  regulation, federal regulations, Obama's regul...   \n",
       "4                                           red tape   \n",
       "\n",
       "                                     objects active_passive  \\\n",
       "0                  domestic energy portfolio                  \n",
       "1  economic recovery, economic opportunities                  \n",
       "2                growth of our economy, jobs                  \n",
       "3             economy, economy, job creation                  \n",
       "4                    economy and jobs engine                  \n",
       "\n",
       "                                                text tense repeat repeat_index  \n",
       "0  <b></b> <em>environmental</em> <em>protection<...        False         None  \n",
       "1   <b>michigan</b> <b>v.</b> <em>e.p.a</em>. <b>...        False         None  \n",
       "2   in <b>mind,</b> <b>the</b> <em>environmental<...        False         None  \n",
       "3  . the gentleman from virginia is recognized. m...        False         None  \n",
       "4   <b>red</b> <b>tape</b> <em>strangling</em> <b...        False         None  "
      ]
     },
     "execution_count": 189,
     "metadata": {},
     "output_type": "execute_result"
    }
   ],
   "source": [
    "df.head()"
   ]
  },
  {
   "cell_type": "code",
   "execution_count": 201,
   "metadata": {},
   "outputs": [
    {
     "data": {
      "text/plain": [
       "'strangl'"
      ]
     },
     "execution_count": 201,
     "metadata": {},
     "output_type": "execute_result"
    }
   ],
   "source": [
    "# Searching through transcripts for strangl*\n",
    "tr_path = 'transcripts/FOXNEWSW_20170628_100000_FOX__Friends.txt'\n",
    "\n",
    "s = '''\n",
    "hello why strangling strangler regulation strangles the economy and freedom\n",
    "'''\n",
    "import re\n",
    "res = re.findall('strangl', s)\n",
    "s[11:18]"
   ]
  },
  {
   "cell_type": "code",
   "execution_count": 204,
   "metadata": {},
   "outputs": [
    {
     "name": "stdout",
     "output_type": "stream",
     "text": [
      "11-18: strangl\n",
      "22-29: strangl\n",
      "43-50: strangl\n"
     ]
    }
   ],
   "source": [
    "for m in re.finditer(r'strangl', s):\n",
    "    print('%02d-%02d: %s' % (m.start(), m.end(), m.group(0)))"
   ]
  },
  {
   "cell_type": "code",
   "execution_count": 208,
   "metadata": {},
   "outputs": [
    {
     "name": "stdout",
     "output_type": "stream",
     "text": [
      "ND WORK FOR DIFFERENT  THINGS THAT WE SEE OUT IN THE  PUBLIC REALM. I DO -- SOME OF HIS TWEETING  COULD BE ADJUSTED A LITTLE  BIT. I THINK IT\\'S A GOOD METHOD  PLATFORM, BUT I DO THINK THEY  NEED TO LOOK AT IT A LITTLE  STRONGER AND MAKE SURE THAT HE  KEEPS TO THE POINT AND SERVES  HIM IN THE APPROPRIATE WAY. \\n\\n TRUE. THANK YOU VERY MUCH. LET\\'S GO OVER TO LEE. WHAT\\'S INTERESTING ABOUT LEE  IS LEE IS ONE OF THOSE VOTERS  WE WERE TALKING ABOUT BEFORE. LEE ACTUALLY VOTED FOR BILL  CLINTON BUT NOW VOTED FOR  TRUMP. WHY? \\n\\n WELL, PRIMARILY BECAUSE  TRUMP IS NOT A POLITICIAN. I\\'M SO TIRED OF CAREER  POLITICIANS RUNNING THIS  COUNTRY AND RUINING IT. SO I CHOSE TO GO WITH WHO  DID. \\n\\n AS A GOAT RANCHER, THAT IS  YOUR JOB MAIN ISSUE THAT  YOU\\'RE FIRED UP ABOUT IS THE  EPA AND WHAT YOU VIEW IS NEEDLESS REGULATIONS. TALK ABOUT THAT. \\n\\n NOT ONLY THE EPA BUT ALL  GOVERNMENT AGENCIES THAT ARE OVERSTEPPING THEIR BOUNDS. THE EPA HAS PUT INTO POSITIONS  SOME RULES AND REGULATIONS  THAT ARE STRANGLE HOLDING THE  USE OF WATER ON PRIVATE LAND  AND THIS IS NOT THE WAY THINGS  SHOULD BE RUN. THIS IS NOT THE WAY THE  COUNTRY WAS SET UP. \\n\\n LEE, THANK YOU FOR YOUR  TIME. AND FINALLY, DEBORAH. DEBORAH, WHY DID YOU VOTE FOR  DONALD TRUMP? \\n\\n FOR THIS LITTLE GUY RIGHT HERE. \\n\\n AND WHAT\\'S THAT LITTLE  GUY\\'S NAME? \\n\\n THIS IS AUSTIN. \\n\\n AUSTIN, HELLO. WAVE TO AMERICA. NOW, SPECIFICALLY, WHY DO  YOU -- WHY ARE YOU WORRIED FOR  AUSTIN\\'S FUTURE. \\n\\n I THINK THE COUNTRY WAS HEADED IN THE WRONG  DIRECTION. WE SAW A LOT OF OUR LIBERTIES  AND TREATMENTS BEING TAKEN  AWAY. AND I WOULD LIKE THAT BACK AGAIN. . \\n\\n WHAT IS IT ABOUT DONALD  TRUMP THAT MAKES YOU CONFIDENT  FOR THE FUTURE? \\n\\n HE\\'S A MAN OF HIS WORD, AND  I THINK HIS ACTIONS ARE  PROVING THAT RIGHT NOW. \\n\\n AUSTIN, DO YOU HAVE  ANYTHING TO SAY? \\n\\n WELL, YOU HEARD IT FROM THE YOUNGEST VOTER. AUSTIN, THANK YOU VERY MUCH. DEBORAH LEE AND DREW, THANK  YOU VERY MUCH. GREAT, GREAT DINER HERE IN  SOUTH CAROLINA. STEVE: ABSOL\n"
     ]
    }
   ],
   "source": [
    "tr = open(tr_path, 'r').read()\n",
    "\n",
    "out = tr[m.start() - 1000:m.end() + 1000]\n",
    "\n",
    "fiter = re.finditer(r'STRANGL', tr)\n",
    "for m in re.finditer(r'STRANGL', tr):\n",
    "    print(out)"
   ]
  },
  {
   "cell_type": "code",
   "execution_count": 234,
   "metadata": {},
   "outputs": [
    {
     "name": "stdout",
     "output_type": "stream",
     "text": [
      "# 1\n",
      "\n",
      "nd work for different  things that we see out in the  public realm. i do -- some of his tweeting  could be adjusted a little  bit. i think it's a good method  platform, but i do think they  need to look at it a little  stronger and make sure that he  keeps to the point and serves  him in the appropriate way. \n",
      "\n",
      " true. thank you very much. let's go over to lee. what's interesting about lee  is lee is one of those voters  we were talking about before. lee actually voted for bill  clinton but now voted for  trump. why? \n",
      "\n",
      " well, primarily because  trump is not a politician. i'm so tired of career  politicians running this  country and ruining it. so i chose to go with who  did. \n",
      "\n",
      " as a goat rancher, that is  your job main issue that  you're fired up about is the  epa and what you view is needless regulations. talk about that. \n",
      "\n",
      " not only the epa but all  government agencies that are overstepping their bounds. the EPA HAS PUT INTO POSITIONS  SOME RULES AND REGULATIONS  THAT ARE STRANGLE HOLDING THE  USE OF WATER ON PRIVATE LAND  AND THIS IS NOT THE way things  should be run. this is not the way the  country was set up. \n",
      "\n",
      " lee, thank you for your  time. and finally, deborah. deborah, why did you vote for  donald trump? \n",
      "\n",
      " for this little guy right here. \n",
      "\n",
      " and what's that little  guy's name? \n",
      "\n",
      " this is austin. \n",
      "\n",
      " austin, hello. wave to america. now, specifically, why do  you -- why are you worried for  austin's future. \n",
      "\n",
      " i think the country was headed in the wrong  direction. we saw a lot of our liberties  and treatments being taken  away. and i would like that back again. . \n",
      "\n",
      " what is it about donald  trump that makes you confident  for the future? \n",
      "\n",
      " he's a man of his word, and  i think his actions are  proving that right now. \n",
      "\n",
      " austin, do you have  anything to say? \n",
      "\n",
      " well, you heard it from the youngest voter. austin, thank you very much. deborah lee and drew, thank  you very much. great, great diner here in  south carolina. steve: absol\n"
     ]
    }
   ],
   "source": [
    "from util import format_snippet\n",
    "\n",
    "print(format_snippet(tr))"
   ]
  },
  {
   "cell_type": "markdown",
   "metadata": {},
   "source": [
    "So much for creating snippets file. Wrapped up what I figured out in `util.py:make_docx`."
   ]
  },
  {
   "cell_type": "markdown",
   "metadata": {},
   "source": [
    "# Results\n",
    "\n",
    "Now to put together results that address the hypotheses advanced here. "
   ]
  }
 ],
 "metadata": {
  "kernelspec": {
   "display_name": "Python 3",
   "language": "python",
   "name": "python3"
  },
  "language_info": {
   "codemirror_mode": {
    "name": "ipython",
    "version": 3
   },
   "file_extension": ".py",
   "mimetype": "text/x-python",
   "name": "python",
   "nbconvert_exporter": "python",
   "pygments_lexer": "ipython3",
   "version": "3.7.0"
  }
 },
 "nbformat": 4,
 "nbformat_minor": 2
}
